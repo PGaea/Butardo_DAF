{
  "nbformat": 4,
  "nbformat_minor": 0,
  "metadata": {
    "colab": {
      "provenance": [],
      "authorship_tag": "ABX9TyOhhOWZhnJkTaHvq3ZbW2qM",
      "include_colab_link": true
    },
    "kernelspec": {
      "name": "python3",
      "display_name": "Python 3"
    },
    "language_info": {
      "name": "python"
    }
  },
  "cells": [
    {
      "cell_type": "markdown",
      "metadata": {
        "id": "view-in-github",
        "colab_type": "text"
      },
      "source": [
        "<a href=\"https://colab.research.google.com/github/PGaea/Butardo_DAF/blob/main/StudentsPerformance_LinearRegression.ipynb\" target=\"_parent\"><img src=\"https://colab.research.google.com/assets/colab-badge.svg\" alt=\"Open In Colab\"/></a>"
      ]
    },
    {
      "cell_type": "code",
      "execution_count": 1,
      "metadata": {
        "id": "c4K8F6J-vfCz"
      },
      "outputs": [],
      "source": [
        "import numpy as np\n",
        "import pandas as pd\n",
        "import matplotlib.pyplot as plt\n",
        "from sklearn.linear_model import LinearRegression"
      ]
    },
    {
      "cell_type": "code",
      "source": [
        "df = pd.read_csv('https://raw.githubusercontent.com/PGaea/Butardo_DAF/refs/heads/main/StudentsPerformance1.csv')"
      ],
      "metadata": {
        "id": "RzgFjgFDwbsc"
      },
      "execution_count": 3,
      "outputs": []
    },
    {
      "cell_type": "code",
      "source": [
        "print(df)"
      ],
      "metadata": {
        "colab": {
          "base_uri": "https://localhost:8080/"
        },
        "id": "PgWikDBIw8gG",
        "outputId": "767add5e-3022-4f9b-cb6b-5579f80f6970"
      },
      "execution_count": 4,
      "outputs": [
        {
          "output_type": "stream",
          "name": "stdout",
          "text": [
            "     gender race/ethnicity parental level of education         lunch  \\\n",
            "0    female        group B           bachelor's degree      standard   \n",
            "1    female        group C                some college      standard   \n",
            "2    female        group B             master's degree      standard   \n",
            "3      male        group A          associate's degree  free/reduced   \n",
            "4      male        group C                some college      standard   \n",
            "..      ...            ...                         ...           ...   \n",
            "995  female        group E             master's degree      standard   \n",
            "996    male        group C                 high school  free/reduced   \n",
            "997  female        group C                 high school  free/reduced   \n",
            "998  female        group D                some college      standard   \n",
            "999  female        group D                some college  free/reduced   \n",
            "\n",
            "    test preparation course  math score  reading score  writing score  \n",
            "0                      none          72             72             74  \n",
            "1                 completed          69             90             88  \n",
            "2                      none          90             95             93  \n",
            "3                      none          47             57             44  \n",
            "4                      none          76             78             75  \n",
            "..                      ...         ...            ...            ...  \n",
            "995               completed          88             99             95  \n",
            "996                    none          62             55             55  \n",
            "997               completed          59             71             65  \n",
            "998               completed          68             78             77  \n",
            "999                    none          77             86             86  \n",
            "\n",
            "[1000 rows x 8 columns]\n"
          ]
        }
      ]
    },
    {
      "cell_type": "code",
      "source": [
        "print(df.isna().sum())"
      ],
      "metadata": {
        "colab": {
          "base_uri": "https://localhost:8080/"
        },
        "id": "s1rS62u5xblh",
        "outputId": "e331b503-d39c-4e1d-dd60-1107e796f6a8"
      },
      "execution_count": 5,
      "outputs": [
        {
          "output_type": "stream",
          "name": "stdout",
          "text": [
            "gender                         0\n",
            "race/ethnicity                 0\n",
            "parental level of education    0\n",
            "lunch                          0\n",
            "test preparation course        0\n",
            "math score                     0\n",
            "reading score                  0\n",
            "writing score                  0\n",
            "dtype: int64\n"
          ]
        }
      ]
    },
    {
      "cell_type": "code",
      "source": [
        "df = df.dropna()"
      ],
      "metadata": {
        "id": "FddqSkJTxgFe"
      },
      "execution_count": 9,
      "outputs": []
    },
    {
      "cell_type": "code",
      "source": [
        "#df['test preparation course'] = df['test preparation course'].map({'none': 0, 'completed': 1}).fillna(0).astype(int)"
      ],
      "metadata": {
        "id": "1rWk51q8D-DI"
      },
      "execution_count": 16,
      "outputs": []
    },
    {
      "cell_type": "code",
      "source": [
        "df['test preparation course'] = df['test preparation course'].astype(str).map({'none': 0, 'completed': 1}).fillna(0).astype(int)"
      ],
      "metadata": {
        "id": "gLZpuLRLFE79"
      },
      "execution_count": 23,
      "outputs": []
    },
    {
      "cell_type": "code",
      "source": [
        "x = df[['test preparation course']] #independent variable\n",
        "y = df['math score'] #dependent variable"
      ],
      "metadata": {
        "id": "NCR3uIZAFtPM"
      },
      "execution_count": 24,
      "outputs": []
    },
    {
      "cell_type": "code",
      "source": [
        "model = LinearRegression()\n",
        "model.fit(x, y)"
      ],
      "metadata": {
        "colab": {
          "base_uri": "https://localhost:8080/",
          "height": 80
        },
        "id": "QpuwC1Od6sEO",
        "outputId": "bc78c5d6-e5a4-456f-f53d-f94d47e58833"
      },
      "execution_count": 25,
      "outputs": [
        {
          "output_type": "execute_result",
          "data": {
            "text/plain": [
              "LinearRegression()"
            ],
            "text/html": [
              "<style>#sk-container-id-1 {\n",
              "  /* Definition of color scheme common for light and dark mode */\n",
              "  --sklearn-color-text: black;\n",
              "  --sklearn-color-line: gray;\n",
              "  /* Definition of color scheme for unfitted estimators */\n",
              "  --sklearn-color-unfitted-level-0: #fff5e6;\n",
              "  --sklearn-color-unfitted-level-1: #f6e4d2;\n",
              "  --sklearn-color-unfitted-level-2: #ffe0b3;\n",
              "  --sklearn-color-unfitted-level-3: chocolate;\n",
              "  /* Definition of color scheme for fitted estimators */\n",
              "  --sklearn-color-fitted-level-0: #f0f8ff;\n",
              "  --sklearn-color-fitted-level-1: #d4ebff;\n",
              "  --sklearn-color-fitted-level-2: #b3dbfd;\n",
              "  --sklearn-color-fitted-level-3: cornflowerblue;\n",
              "\n",
              "  /* Specific color for light theme */\n",
              "  --sklearn-color-text-on-default-background: var(--sg-text-color, var(--theme-code-foreground, var(--jp-content-font-color1, black)));\n",
              "  --sklearn-color-background: var(--sg-background-color, var(--theme-background, var(--jp-layout-color0, white)));\n",
              "  --sklearn-color-border-box: var(--sg-text-color, var(--theme-code-foreground, var(--jp-content-font-color1, black)));\n",
              "  --sklearn-color-icon: #696969;\n",
              "\n",
              "  @media (prefers-color-scheme: dark) {\n",
              "    /* Redefinition of color scheme for dark theme */\n",
              "    --sklearn-color-text-on-default-background: var(--sg-text-color, var(--theme-code-foreground, var(--jp-content-font-color1, white)));\n",
              "    --sklearn-color-background: var(--sg-background-color, var(--theme-background, var(--jp-layout-color0, #111)));\n",
              "    --sklearn-color-border-box: var(--sg-text-color, var(--theme-code-foreground, var(--jp-content-font-color1, white)));\n",
              "    --sklearn-color-icon: #878787;\n",
              "  }\n",
              "}\n",
              "\n",
              "#sk-container-id-1 {\n",
              "  color: var(--sklearn-color-text);\n",
              "}\n",
              "\n",
              "#sk-container-id-1 pre {\n",
              "  padding: 0;\n",
              "}\n",
              "\n",
              "#sk-container-id-1 input.sk-hidden--visually {\n",
              "  border: 0;\n",
              "  clip: rect(1px 1px 1px 1px);\n",
              "  clip: rect(1px, 1px, 1px, 1px);\n",
              "  height: 1px;\n",
              "  margin: -1px;\n",
              "  overflow: hidden;\n",
              "  padding: 0;\n",
              "  position: absolute;\n",
              "  width: 1px;\n",
              "}\n",
              "\n",
              "#sk-container-id-1 div.sk-dashed-wrapped {\n",
              "  border: 1px dashed var(--sklearn-color-line);\n",
              "  margin: 0 0.4em 0.5em 0.4em;\n",
              "  box-sizing: border-box;\n",
              "  padding-bottom: 0.4em;\n",
              "  background-color: var(--sklearn-color-background);\n",
              "}\n",
              "\n",
              "#sk-container-id-1 div.sk-container {\n",
              "  /* jupyter's `normalize.less` sets `[hidden] { display: none; }`\n",
              "     but bootstrap.min.css set `[hidden] { display: none !important; }`\n",
              "     so we also need the `!important` here to be able to override the\n",
              "     default hidden behavior on the sphinx rendered scikit-learn.org.\n",
              "     See: https://github.com/scikit-learn/scikit-learn/issues/21755 */\n",
              "  display: inline-block !important;\n",
              "  position: relative;\n",
              "}\n",
              "\n",
              "#sk-container-id-1 div.sk-text-repr-fallback {\n",
              "  display: none;\n",
              "}\n",
              "\n",
              "div.sk-parallel-item,\n",
              "div.sk-serial,\n",
              "div.sk-item {\n",
              "  /* draw centered vertical line to link estimators */\n",
              "  background-image: linear-gradient(var(--sklearn-color-text-on-default-background), var(--sklearn-color-text-on-default-background));\n",
              "  background-size: 2px 100%;\n",
              "  background-repeat: no-repeat;\n",
              "  background-position: center center;\n",
              "}\n",
              "\n",
              "/* Parallel-specific style estimator block */\n",
              "\n",
              "#sk-container-id-1 div.sk-parallel-item::after {\n",
              "  content: \"\";\n",
              "  width: 100%;\n",
              "  border-bottom: 2px solid var(--sklearn-color-text-on-default-background);\n",
              "  flex-grow: 1;\n",
              "}\n",
              "\n",
              "#sk-container-id-1 div.sk-parallel {\n",
              "  display: flex;\n",
              "  align-items: stretch;\n",
              "  justify-content: center;\n",
              "  background-color: var(--sklearn-color-background);\n",
              "  position: relative;\n",
              "}\n",
              "\n",
              "#sk-container-id-1 div.sk-parallel-item {\n",
              "  display: flex;\n",
              "  flex-direction: column;\n",
              "}\n",
              "\n",
              "#sk-container-id-1 div.sk-parallel-item:first-child::after {\n",
              "  align-self: flex-end;\n",
              "  width: 50%;\n",
              "}\n",
              "\n",
              "#sk-container-id-1 div.sk-parallel-item:last-child::after {\n",
              "  align-self: flex-start;\n",
              "  width: 50%;\n",
              "}\n",
              "\n",
              "#sk-container-id-1 div.sk-parallel-item:only-child::after {\n",
              "  width: 0;\n",
              "}\n",
              "\n",
              "/* Serial-specific style estimator block */\n",
              "\n",
              "#sk-container-id-1 div.sk-serial {\n",
              "  display: flex;\n",
              "  flex-direction: column;\n",
              "  align-items: center;\n",
              "  background-color: var(--sklearn-color-background);\n",
              "  padding-right: 1em;\n",
              "  padding-left: 1em;\n",
              "}\n",
              "\n",
              "\n",
              "/* Toggleable style: style used for estimator/Pipeline/ColumnTransformer box that is\n",
              "clickable and can be expanded/collapsed.\n",
              "- Pipeline and ColumnTransformer use this feature and define the default style\n",
              "- Estimators will overwrite some part of the style using the `sk-estimator` class\n",
              "*/\n",
              "\n",
              "/* Pipeline and ColumnTransformer style (default) */\n",
              "\n",
              "#sk-container-id-1 div.sk-toggleable {\n",
              "  /* Default theme specific background. It is overwritten whether we have a\n",
              "  specific estimator or a Pipeline/ColumnTransformer */\n",
              "  background-color: var(--sklearn-color-background);\n",
              "}\n",
              "\n",
              "/* Toggleable label */\n",
              "#sk-container-id-1 label.sk-toggleable__label {\n",
              "  cursor: pointer;\n",
              "  display: block;\n",
              "  width: 100%;\n",
              "  margin-bottom: 0;\n",
              "  padding: 0.5em;\n",
              "  box-sizing: border-box;\n",
              "  text-align: center;\n",
              "}\n",
              "\n",
              "#sk-container-id-1 label.sk-toggleable__label-arrow:before {\n",
              "  /* Arrow on the left of the label */\n",
              "  content: \"▸\";\n",
              "  float: left;\n",
              "  margin-right: 0.25em;\n",
              "  color: var(--sklearn-color-icon);\n",
              "}\n",
              "\n",
              "#sk-container-id-1 label.sk-toggleable__label-arrow:hover:before {\n",
              "  color: var(--sklearn-color-text);\n",
              "}\n",
              "\n",
              "/* Toggleable content - dropdown */\n",
              "\n",
              "#sk-container-id-1 div.sk-toggleable__content {\n",
              "  max-height: 0;\n",
              "  max-width: 0;\n",
              "  overflow: hidden;\n",
              "  text-align: left;\n",
              "  /* unfitted */\n",
              "  background-color: var(--sklearn-color-unfitted-level-0);\n",
              "}\n",
              "\n",
              "#sk-container-id-1 div.sk-toggleable__content.fitted {\n",
              "  /* fitted */\n",
              "  background-color: var(--sklearn-color-fitted-level-0);\n",
              "}\n",
              "\n",
              "#sk-container-id-1 div.sk-toggleable__content pre {\n",
              "  margin: 0.2em;\n",
              "  border-radius: 0.25em;\n",
              "  color: var(--sklearn-color-text);\n",
              "  /* unfitted */\n",
              "  background-color: var(--sklearn-color-unfitted-level-0);\n",
              "}\n",
              "\n",
              "#sk-container-id-1 div.sk-toggleable__content.fitted pre {\n",
              "  /* unfitted */\n",
              "  background-color: var(--sklearn-color-fitted-level-0);\n",
              "}\n",
              "\n",
              "#sk-container-id-1 input.sk-toggleable__control:checked~div.sk-toggleable__content {\n",
              "  /* Expand drop-down */\n",
              "  max-height: 200px;\n",
              "  max-width: 100%;\n",
              "  overflow: auto;\n",
              "}\n",
              "\n",
              "#sk-container-id-1 input.sk-toggleable__control:checked~label.sk-toggleable__label-arrow:before {\n",
              "  content: \"▾\";\n",
              "}\n",
              "\n",
              "/* Pipeline/ColumnTransformer-specific style */\n",
              "\n",
              "#sk-container-id-1 div.sk-label input.sk-toggleable__control:checked~label.sk-toggleable__label {\n",
              "  color: var(--sklearn-color-text);\n",
              "  background-color: var(--sklearn-color-unfitted-level-2);\n",
              "}\n",
              "\n",
              "#sk-container-id-1 div.sk-label.fitted input.sk-toggleable__control:checked~label.sk-toggleable__label {\n",
              "  background-color: var(--sklearn-color-fitted-level-2);\n",
              "}\n",
              "\n",
              "/* Estimator-specific style */\n",
              "\n",
              "/* Colorize estimator box */\n",
              "#sk-container-id-1 div.sk-estimator input.sk-toggleable__control:checked~label.sk-toggleable__label {\n",
              "  /* unfitted */\n",
              "  background-color: var(--sklearn-color-unfitted-level-2);\n",
              "}\n",
              "\n",
              "#sk-container-id-1 div.sk-estimator.fitted input.sk-toggleable__control:checked~label.sk-toggleable__label {\n",
              "  /* fitted */\n",
              "  background-color: var(--sklearn-color-fitted-level-2);\n",
              "}\n",
              "\n",
              "#sk-container-id-1 div.sk-label label.sk-toggleable__label,\n",
              "#sk-container-id-1 div.sk-label label {\n",
              "  /* The background is the default theme color */\n",
              "  color: var(--sklearn-color-text-on-default-background);\n",
              "}\n",
              "\n",
              "/* On hover, darken the color of the background */\n",
              "#sk-container-id-1 div.sk-label:hover label.sk-toggleable__label {\n",
              "  color: var(--sklearn-color-text);\n",
              "  background-color: var(--sklearn-color-unfitted-level-2);\n",
              "}\n",
              "\n",
              "/* Label box, darken color on hover, fitted */\n",
              "#sk-container-id-1 div.sk-label.fitted:hover label.sk-toggleable__label.fitted {\n",
              "  color: var(--sklearn-color-text);\n",
              "  background-color: var(--sklearn-color-fitted-level-2);\n",
              "}\n",
              "\n",
              "/* Estimator label */\n",
              "\n",
              "#sk-container-id-1 div.sk-label label {\n",
              "  font-family: monospace;\n",
              "  font-weight: bold;\n",
              "  display: inline-block;\n",
              "  line-height: 1.2em;\n",
              "}\n",
              "\n",
              "#sk-container-id-1 div.sk-label-container {\n",
              "  text-align: center;\n",
              "}\n",
              "\n",
              "/* Estimator-specific */\n",
              "#sk-container-id-1 div.sk-estimator {\n",
              "  font-family: monospace;\n",
              "  border: 1px dotted var(--sklearn-color-border-box);\n",
              "  border-radius: 0.25em;\n",
              "  box-sizing: border-box;\n",
              "  margin-bottom: 0.5em;\n",
              "  /* unfitted */\n",
              "  background-color: var(--sklearn-color-unfitted-level-0);\n",
              "}\n",
              "\n",
              "#sk-container-id-1 div.sk-estimator.fitted {\n",
              "  /* fitted */\n",
              "  background-color: var(--sklearn-color-fitted-level-0);\n",
              "}\n",
              "\n",
              "/* on hover */\n",
              "#sk-container-id-1 div.sk-estimator:hover {\n",
              "  /* unfitted */\n",
              "  background-color: var(--sklearn-color-unfitted-level-2);\n",
              "}\n",
              "\n",
              "#sk-container-id-1 div.sk-estimator.fitted:hover {\n",
              "  /* fitted */\n",
              "  background-color: var(--sklearn-color-fitted-level-2);\n",
              "}\n",
              "\n",
              "/* Specification for estimator info (e.g. \"i\" and \"?\") */\n",
              "\n",
              "/* Common style for \"i\" and \"?\" */\n",
              "\n",
              ".sk-estimator-doc-link,\n",
              "a:link.sk-estimator-doc-link,\n",
              "a:visited.sk-estimator-doc-link {\n",
              "  float: right;\n",
              "  font-size: smaller;\n",
              "  line-height: 1em;\n",
              "  font-family: monospace;\n",
              "  background-color: var(--sklearn-color-background);\n",
              "  border-radius: 1em;\n",
              "  height: 1em;\n",
              "  width: 1em;\n",
              "  text-decoration: none !important;\n",
              "  margin-left: 1ex;\n",
              "  /* unfitted */\n",
              "  border: var(--sklearn-color-unfitted-level-1) 1pt solid;\n",
              "  color: var(--sklearn-color-unfitted-level-1);\n",
              "}\n",
              "\n",
              ".sk-estimator-doc-link.fitted,\n",
              "a:link.sk-estimator-doc-link.fitted,\n",
              "a:visited.sk-estimator-doc-link.fitted {\n",
              "  /* fitted */\n",
              "  border: var(--sklearn-color-fitted-level-1) 1pt solid;\n",
              "  color: var(--sklearn-color-fitted-level-1);\n",
              "}\n",
              "\n",
              "/* On hover */\n",
              "div.sk-estimator:hover .sk-estimator-doc-link:hover,\n",
              ".sk-estimator-doc-link:hover,\n",
              "div.sk-label-container:hover .sk-estimator-doc-link:hover,\n",
              ".sk-estimator-doc-link:hover {\n",
              "  /* unfitted */\n",
              "  background-color: var(--sklearn-color-unfitted-level-3);\n",
              "  color: var(--sklearn-color-background);\n",
              "  text-decoration: none;\n",
              "}\n",
              "\n",
              "div.sk-estimator.fitted:hover .sk-estimator-doc-link.fitted:hover,\n",
              ".sk-estimator-doc-link.fitted:hover,\n",
              "div.sk-label-container:hover .sk-estimator-doc-link.fitted:hover,\n",
              ".sk-estimator-doc-link.fitted:hover {\n",
              "  /* fitted */\n",
              "  background-color: var(--sklearn-color-fitted-level-3);\n",
              "  color: var(--sklearn-color-background);\n",
              "  text-decoration: none;\n",
              "}\n",
              "\n",
              "/* Span, style for the box shown on hovering the info icon */\n",
              ".sk-estimator-doc-link span {\n",
              "  display: none;\n",
              "  z-index: 9999;\n",
              "  position: relative;\n",
              "  font-weight: normal;\n",
              "  right: .2ex;\n",
              "  padding: .5ex;\n",
              "  margin: .5ex;\n",
              "  width: min-content;\n",
              "  min-width: 20ex;\n",
              "  max-width: 50ex;\n",
              "  color: var(--sklearn-color-text);\n",
              "  box-shadow: 2pt 2pt 4pt #999;\n",
              "  /* unfitted */\n",
              "  background: var(--sklearn-color-unfitted-level-0);\n",
              "  border: .5pt solid var(--sklearn-color-unfitted-level-3);\n",
              "}\n",
              "\n",
              ".sk-estimator-doc-link.fitted span {\n",
              "  /* fitted */\n",
              "  background: var(--sklearn-color-fitted-level-0);\n",
              "  border: var(--sklearn-color-fitted-level-3);\n",
              "}\n",
              "\n",
              ".sk-estimator-doc-link:hover span {\n",
              "  display: block;\n",
              "}\n",
              "\n",
              "/* \"?\"-specific style due to the `<a>` HTML tag */\n",
              "\n",
              "#sk-container-id-1 a.estimator_doc_link {\n",
              "  float: right;\n",
              "  font-size: 1rem;\n",
              "  line-height: 1em;\n",
              "  font-family: monospace;\n",
              "  background-color: var(--sklearn-color-background);\n",
              "  border-radius: 1rem;\n",
              "  height: 1rem;\n",
              "  width: 1rem;\n",
              "  text-decoration: none;\n",
              "  /* unfitted */\n",
              "  color: var(--sklearn-color-unfitted-level-1);\n",
              "  border: var(--sklearn-color-unfitted-level-1) 1pt solid;\n",
              "}\n",
              "\n",
              "#sk-container-id-1 a.estimator_doc_link.fitted {\n",
              "  /* fitted */\n",
              "  border: var(--sklearn-color-fitted-level-1) 1pt solid;\n",
              "  color: var(--sklearn-color-fitted-level-1);\n",
              "}\n",
              "\n",
              "/* On hover */\n",
              "#sk-container-id-1 a.estimator_doc_link:hover {\n",
              "  /* unfitted */\n",
              "  background-color: var(--sklearn-color-unfitted-level-3);\n",
              "  color: var(--sklearn-color-background);\n",
              "  text-decoration: none;\n",
              "}\n",
              "\n",
              "#sk-container-id-1 a.estimator_doc_link.fitted:hover {\n",
              "  /* fitted */\n",
              "  background-color: var(--sklearn-color-fitted-level-3);\n",
              "}\n",
              "</style><div id=\"sk-container-id-1\" class=\"sk-top-container\"><div class=\"sk-text-repr-fallback\"><pre>LinearRegression()</pre><b>In a Jupyter environment, please rerun this cell to show the HTML representation or trust the notebook. <br />On GitHub, the HTML representation is unable to render, please try loading this page with nbviewer.org.</b></div><div class=\"sk-container\" hidden><div class=\"sk-item\"><div class=\"sk-estimator fitted sk-toggleable\"><input class=\"sk-toggleable__control sk-hidden--visually\" id=\"sk-estimator-id-1\" type=\"checkbox\" checked><label for=\"sk-estimator-id-1\" class=\"sk-toggleable__label fitted sk-toggleable__label-arrow fitted\">&nbsp;&nbsp;LinearRegression<a class=\"sk-estimator-doc-link fitted\" rel=\"noreferrer\" target=\"_blank\" href=\"https://scikit-learn.org/1.5/modules/generated/sklearn.linear_model.LinearRegression.html\">?<span>Documentation for LinearRegression</span></a><span class=\"sk-estimator-doc-link fitted\">i<span>Fitted</span></span></label><div class=\"sk-toggleable__content fitted\"><pre>LinearRegression()</pre></div> </div></div></div></div>"
            ]
          },
          "metadata": {},
          "execution_count": 25
        }
      ]
    },
    {
      "cell_type": "code",
      "source": [
        "y_pred = model.predict(x)"
      ],
      "metadata": {
        "id": "xld9BywdGV73"
      },
      "execution_count": 27,
      "outputs": []
    },
    {
      "cell_type": "code",
      "source": [
        "print(\"Predicted Math Score: \", y_pred)"
      ],
      "metadata": {
        "colab": {
          "base_uri": "https://localhost:8080/"
        },
        "id": "XBt3gTDCG7Q3",
        "outputId": "aca87187-87b3-4732-d933-4ddf21b6338f"
      },
      "execution_count": 28,
      "outputs": [
        {
          "output_type": "stream",
          "name": "stdout",
          "text": [
            "Predicted Math Score:  [66.089 66.089 66.089 66.089 66.089 66.089 66.089 66.089 66.089 66.089\n",
            " 66.089 66.089 66.089 66.089 66.089 66.089 66.089 66.089 66.089 66.089\n",
            " 66.089 66.089 66.089 66.089 66.089 66.089 66.089 66.089 66.089 66.089\n",
            " 66.089 66.089 66.089 66.089 66.089 66.089 66.089 66.089 66.089 66.089\n",
            " 66.089 66.089 66.089 66.089 66.089 66.089 66.089 66.089 66.089 66.089\n",
            " 66.089 66.089 66.089 66.089 66.089 66.089 66.089 66.089 66.089 66.089\n",
            " 66.089 66.089 66.089 66.089 66.089 66.089 66.089 66.089 66.089 66.089\n",
            " 66.089 66.089 66.089 66.089 66.089 66.089 66.089 66.089 66.089 66.089\n",
            " 66.089 66.089 66.089 66.089 66.089 66.089 66.089 66.089 66.089 66.089\n",
            " 66.089 66.089 66.089 66.089 66.089 66.089 66.089 66.089 66.089 66.089\n",
            " 66.089 66.089 66.089 66.089 66.089 66.089 66.089 66.089 66.089 66.089\n",
            " 66.089 66.089 66.089 66.089 66.089 66.089 66.089 66.089 66.089 66.089\n",
            " 66.089 66.089 66.089 66.089 66.089 66.089 66.089 66.089 66.089 66.089\n",
            " 66.089 66.089 66.089 66.089 66.089 66.089 66.089 66.089 66.089 66.089\n",
            " 66.089 66.089 66.089 66.089 66.089 66.089 66.089 66.089 66.089 66.089\n",
            " 66.089 66.089 66.089 66.089 66.089 66.089 66.089 66.089 66.089 66.089\n",
            " 66.089 66.089 66.089 66.089 66.089 66.089 66.089 66.089 66.089 66.089\n",
            " 66.089 66.089 66.089 66.089 66.089 66.089 66.089 66.089 66.089 66.089\n",
            " 66.089 66.089 66.089 66.089 66.089 66.089 66.089 66.089 66.089 66.089\n",
            " 66.089 66.089 66.089 66.089 66.089 66.089 66.089 66.089 66.089 66.089\n",
            " 66.089 66.089 66.089 66.089 66.089 66.089 66.089 66.089 66.089 66.089\n",
            " 66.089 66.089 66.089 66.089 66.089 66.089 66.089 66.089 66.089 66.089\n",
            " 66.089 66.089 66.089 66.089 66.089 66.089 66.089 66.089 66.089 66.089\n",
            " 66.089 66.089 66.089 66.089 66.089 66.089 66.089 66.089 66.089 66.089\n",
            " 66.089 66.089 66.089 66.089 66.089 66.089 66.089 66.089 66.089 66.089\n",
            " 66.089 66.089 66.089 66.089 66.089 66.089 66.089 66.089 66.089 66.089\n",
            " 66.089 66.089 66.089 66.089 66.089 66.089 66.089 66.089 66.089 66.089\n",
            " 66.089 66.089 66.089 66.089 66.089 66.089 66.089 66.089 66.089 66.089\n",
            " 66.089 66.089 66.089 66.089 66.089 66.089 66.089 66.089 66.089 66.089\n",
            " 66.089 66.089 66.089 66.089 66.089 66.089 66.089 66.089 66.089 66.089\n",
            " 66.089 66.089 66.089 66.089 66.089 66.089 66.089 66.089 66.089 66.089\n",
            " 66.089 66.089 66.089 66.089 66.089 66.089 66.089 66.089 66.089 66.089\n",
            " 66.089 66.089 66.089 66.089 66.089 66.089 66.089 66.089 66.089 66.089\n",
            " 66.089 66.089 66.089 66.089 66.089 66.089 66.089 66.089 66.089 66.089\n",
            " 66.089 66.089 66.089 66.089 66.089 66.089 66.089 66.089 66.089 66.089\n",
            " 66.089 66.089 66.089 66.089 66.089 66.089 66.089 66.089 66.089 66.089\n",
            " 66.089 66.089 66.089 66.089 66.089 66.089 66.089 66.089 66.089 66.089\n",
            " 66.089 66.089 66.089 66.089 66.089 66.089 66.089 66.089 66.089 66.089\n",
            " 66.089 66.089 66.089 66.089 66.089 66.089 66.089 66.089 66.089 66.089\n",
            " 66.089 66.089 66.089 66.089 66.089 66.089 66.089 66.089 66.089 66.089\n",
            " 66.089 66.089 66.089 66.089 66.089 66.089 66.089 66.089 66.089 66.089\n",
            " 66.089 66.089 66.089 66.089 66.089 66.089 66.089 66.089 66.089 66.089\n",
            " 66.089 66.089 66.089 66.089 66.089 66.089 66.089 66.089 66.089 66.089\n",
            " 66.089 66.089 66.089 66.089 66.089 66.089 66.089 66.089 66.089 66.089\n",
            " 66.089 66.089 66.089 66.089 66.089 66.089 66.089 66.089 66.089 66.089\n",
            " 66.089 66.089 66.089 66.089 66.089 66.089 66.089 66.089 66.089 66.089\n",
            " 66.089 66.089 66.089 66.089 66.089 66.089 66.089 66.089 66.089 66.089\n",
            " 66.089 66.089 66.089 66.089 66.089 66.089 66.089 66.089 66.089 66.089\n",
            " 66.089 66.089 66.089 66.089 66.089 66.089 66.089 66.089 66.089 66.089\n",
            " 66.089 66.089 66.089 66.089 66.089 66.089 66.089 66.089 66.089 66.089\n",
            " 66.089 66.089 66.089 66.089 66.089 66.089 66.089 66.089 66.089 66.089\n",
            " 66.089 66.089 66.089 66.089 66.089 66.089 66.089 66.089 66.089 66.089\n",
            " 66.089 66.089 66.089 66.089 66.089 66.089 66.089 66.089 66.089 66.089\n",
            " 66.089 66.089 66.089 66.089 66.089 66.089 66.089 66.089 66.089 66.089\n",
            " 66.089 66.089 66.089 66.089 66.089 66.089 66.089 66.089 66.089 66.089\n",
            " 66.089 66.089 66.089 66.089 66.089 66.089 66.089 66.089 66.089 66.089\n",
            " 66.089 66.089 66.089 66.089 66.089 66.089 66.089 66.089 66.089 66.089\n",
            " 66.089 66.089 66.089 66.089 66.089 66.089 66.089 66.089 66.089 66.089\n",
            " 66.089 66.089 66.089 66.089 66.089 66.089 66.089 66.089 66.089 66.089\n",
            " 66.089 66.089 66.089 66.089 66.089 66.089 66.089 66.089 66.089 66.089\n",
            " 66.089 66.089 66.089 66.089 66.089 66.089 66.089 66.089 66.089 66.089\n",
            " 66.089 66.089 66.089 66.089 66.089 66.089 66.089 66.089 66.089 66.089\n",
            " 66.089 66.089 66.089 66.089 66.089 66.089 66.089 66.089 66.089 66.089\n",
            " 66.089 66.089 66.089 66.089 66.089 66.089 66.089 66.089 66.089 66.089\n",
            " 66.089 66.089 66.089 66.089 66.089 66.089 66.089 66.089 66.089 66.089\n",
            " 66.089 66.089 66.089 66.089 66.089 66.089 66.089 66.089 66.089 66.089\n",
            " 66.089 66.089 66.089 66.089 66.089 66.089 66.089 66.089 66.089 66.089\n",
            " 66.089 66.089 66.089 66.089 66.089 66.089 66.089 66.089 66.089 66.089\n",
            " 66.089 66.089 66.089 66.089 66.089 66.089 66.089 66.089 66.089 66.089\n",
            " 66.089 66.089 66.089 66.089 66.089 66.089 66.089 66.089 66.089 66.089\n",
            " 66.089 66.089 66.089 66.089 66.089 66.089 66.089 66.089 66.089 66.089\n",
            " 66.089 66.089 66.089 66.089 66.089 66.089 66.089 66.089 66.089 66.089\n",
            " 66.089 66.089 66.089 66.089 66.089 66.089 66.089 66.089 66.089 66.089\n",
            " 66.089 66.089 66.089 66.089 66.089 66.089 66.089 66.089 66.089 66.089\n",
            " 66.089 66.089 66.089 66.089 66.089 66.089 66.089 66.089 66.089 66.089\n",
            " 66.089 66.089 66.089 66.089 66.089 66.089 66.089 66.089 66.089 66.089\n",
            " 66.089 66.089 66.089 66.089 66.089 66.089 66.089 66.089 66.089 66.089\n",
            " 66.089 66.089 66.089 66.089 66.089 66.089 66.089 66.089 66.089 66.089\n",
            " 66.089 66.089 66.089 66.089 66.089 66.089 66.089 66.089 66.089 66.089\n",
            " 66.089 66.089 66.089 66.089 66.089 66.089 66.089 66.089 66.089 66.089\n",
            " 66.089 66.089 66.089 66.089 66.089 66.089 66.089 66.089 66.089 66.089\n",
            " 66.089 66.089 66.089 66.089 66.089 66.089 66.089 66.089 66.089 66.089\n",
            " 66.089 66.089 66.089 66.089 66.089 66.089 66.089 66.089 66.089 66.089\n",
            " 66.089 66.089 66.089 66.089 66.089 66.089 66.089 66.089 66.089 66.089\n",
            " 66.089 66.089 66.089 66.089 66.089 66.089 66.089 66.089 66.089 66.089\n",
            " 66.089 66.089 66.089 66.089 66.089 66.089 66.089 66.089 66.089 66.089\n",
            " 66.089 66.089 66.089 66.089 66.089 66.089 66.089 66.089 66.089 66.089\n",
            " 66.089 66.089 66.089 66.089 66.089 66.089 66.089 66.089 66.089 66.089\n",
            " 66.089 66.089 66.089 66.089 66.089 66.089 66.089 66.089 66.089 66.089\n",
            " 66.089 66.089 66.089 66.089 66.089 66.089 66.089 66.089 66.089 66.089\n",
            " 66.089 66.089 66.089 66.089 66.089 66.089 66.089 66.089 66.089 66.089\n",
            " 66.089 66.089 66.089 66.089 66.089 66.089 66.089 66.089 66.089 66.089\n",
            " 66.089 66.089 66.089 66.089 66.089 66.089 66.089 66.089 66.089 66.089\n",
            " 66.089 66.089 66.089 66.089 66.089 66.089 66.089 66.089 66.089 66.089\n",
            " 66.089 66.089 66.089 66.089 66.089 66.089 66.089 66.089 66.089 66.089\n",
            " 66.089 66.089 66.089 66.089 66.089 66.089 66.089 66.089 66.089 66.089\n",
            " 66.089 66.089 66.089 66.089 66.089 66.089 66.089 66.089 66.089 66.089\n",
            " 66.089 66.089 66.089 66.089 66.089 66.089 66.089 66.089 66.089 66.089\n",
            " 66.089 66.089 66.089 66.089 66.089 66.089 66.089 66.089 66.089 66.089\n",
            " 66.089 66.089 66.089 66.089 66.089 66.089 66.089 66.089 66.089 66.089]\n"
          ]
        }
      ]
    },
    {
      "cell_type": "code",
      "source": [
        "print(f\"Intercept: {model.intercept_}, Coefficient: {model.coef_[0]}\")"
      ],
      "metadata": {
        "colab": {
          "base_uri": "https://localhost:8080/"
        },
        "id": "XqGvzRUEHnge",
        "outputId": "56ce64e8-04c7-4f2d-f1d2-4ab80a7c03e3"
      },
      "execution_count": 29,
      "outputs": [
        {
          "output_type": "stream",
          "name": "stdout",
          "text": [
            "Intercept: 66.089, Coefficient: 0.0\n"
          ]
        }
      ]
    },
    {
      "cell_type": "code",
      "source": [
        "plt.scatter(x, y, color='blue')\n",
        "plt.plot(x, y_pred, color='red')\n",
        "plt.title(\"Test Preparation Course vs Math Score (Linear Regression)\")\n",
        "plt.xlabel(\"Test Preparation Course\")\n",
        "plt.ylabel(\"Math Score\")\n",
        "plt.show()"
      ],
      "metadata": {
        "colab": {
          "base_uri": "https://localhost:8080/",
          "height": 472
        },
        "id": "2Gb4N39CHsP-",
        "outputId": "91e6be03-a361-4161-ff5e-fc4dad10593f"
      },
      "execution_count": 32,
      "outputs": [
        {
          "output_type": "display_data",
          "data": {
            "text/plain": [
              "<Figure size 640x480 with 1 Axes>"
            ],
            "image/png": "[encoded data removed]"
          },
          "metadata": {}
        }
      ]
    },
    {
      "cell_type": "code",
      "source": [
        "residuals = y - y_pred\n",
        "plt.scatter(x, residuals, color='green')\n",
        "plt.axhline(0, color='red', linestyle='--')  # Line at 0 for residuals\n",
        "plt.title(\"Residuals vs Test Preparation Course\")\n",
        "plt.xlabel(\"Test Preparation Course\")\n",
        "plt.ylabel(\"Residuals\")\n",
        "plt.show()"
      ],
      "metadata": {
        "colab": {
          "base_uri": "https://localhost:8080/",
          "height": 472
        },
        "id": "2uzaqDyPIKGn",
        "outputId": "a3b2dd13-903f-43c1-f71e-680ca650316d"
      },
      "execution_count": 33,
      "outputs": [
        {
          "output_type": "display_data",
          "data": {
            "text/plain": [
              "<Figure size 640x480 with 1 Axes>"
            ],
            "image/png": "[encoded data removed]"
          },
          "metadata": {}
        }
      ]
    },
    {
      "cell_type": "code",
      "source": [
        "print(f\"Maximum predicted Math Score: {y_pred.max()}\")\n",
        "print(f\"Minimum predicted Math Score: {y_pred.min()}\")"
      ],
      "metadata": {
        "colab": {
          "base_uri": "https://localhost:8080/"
        },
        "id": "BlQyM2dzJCAa",
        "outputId": "7a94e802-b696-4fe1-b0f5-b6c0075b2278"
      },
      "execution_count": 35,
      "outputs": [
        {
          "output_type": "stream",
          "name": "stdout",
          "text": [
            "Maximum predicted Math Score: 66.089\n",
            "Minimum predicted Math Score: 66.089\n"
          ]
        }
      ]
    }
  ]
}